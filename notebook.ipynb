{
 "cells": [
  {
   "cell_type": "markdown",
   "metadata": {},
   "source": [
    "## SENTIMENT ANALYSIS FOR KENYA AIRWAYS\n",
    "\n",
    "### AUTHORS\n",
    "\n",
    "* Winfred Kinya\n",
    "* Jeremiah Waiguru\n",
    "* Paul Ngatia\n",
    "* Mercy Kiragu"
   ]
  },
  {
   "cell_type": "markdown",
   "metadata": {},
   "source": []
  }
 ],
 "metadata": {
  "language_info": {
   "name": "python"
  }
 },
 "nbformat": 4,
 "nbformat_minor": 2
}

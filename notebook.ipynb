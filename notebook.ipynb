{
 "cells": [
  {
   "cell_type": "markdown",
   "metadata": {},
   "source": [
    "## SENTIMENT ANALYSIS FOR KENYA AIRWAYS\n",
    "\n",
    "### AUTHORS\n",
    "\n",
    "* Winfred Kinya\n",
    "* Jeremiah Waiguru\n",
    "* Paul Ngatia\n",
    "* Mercy Kiragu"
   ]
  },
  {
   "cell_type": "markdown",
   "metadata": {},
   "source": [
    "##  1.0 PROJECT OVERVIEW\n",
    "\n",
    "This project is focused on analyzing customer reviews of Kenya Airways to extract meaningful insights regarding customer satisfaction and service quality. By utilizing sentiment analysis techniques, the project will classify these reviews into positive, negative, or neutral sentiments. The goal is to help Kenya Airways identify areas of excellence as well as aspects of their service that may require improvement. This analysis will serve as a foundation for enhancing customer experience and driving operational improvements."
   ]
  },
  {
   "cell_type": "markdown",
   "metadata": {},
   "source": [
    "## 1.1  BUSINESS UNDERSTANDING\n",
    "\n",
    "In the competitive aviation industry, customer satisfaction plays a vital role in shaping the reputation and success of an airline. Kenya Airways, like many airlines, receives numerous reviews from passengers, which contain valuable feedback about their experiences. Understanding the sentiments behind these reviews is essential for identifying strengths and weaknesses in service delivery. This project will leverage sentiment analysis to process and analyze customer feedback, enabling Kenya Airways to make informed decisions that enhance passenger satisfaction and loyalty."
   ]
  },
  {
   "cell_type": "markdown",
   "metadata": {},
   "source": [
    "## 1.2 PROBLEM STATEMENT\n",
    "\n",
    "Kenya Airways is challenged by the vast amount of unstructured customer feedback available through online reviews. Without an efficient method to analyze this feedback, the airline may overlook critical insights that could lead to service improvements. This project aims to address this challenge by systematically analyzing the sentiment of customer reviews, providing Kenya Airways with a clear understanding of customer perceptions and identifying key areas that require attention."
   ]
  },
  {
   "cell_type": "markdown",
   "metadata": {},
   "source": [
    "## 1.3  OBJECTIVES\n",
    "\n",
    "### Primary objective \n",
    "\n",
    "To develop a robust sentiment analysis model that accurately classifies customer reviews of Kenya Airways into positive, negative, or neutral sentiments.\n",
    "\n",
    "### Specific objectives\n",
    "\n",
    "1. To explore the sentiment distribution across different customer demographics, travel classes, and time periods.\n",
    "2. To identify recurring themes and specific aspects of service (e.g., customer service, punctuality, in-flight experience) that are frequently mentioned in the reviews.\n",
    "3. To assess the performance of various sentiment analysis models and determine the most effective model for this dataset.\n",
    "4. To generate actionable insights from the sentiment analysis that can be used by Kenya Airways to improve customer service and address common issues\n"
   ]
  },
  {
   "cell_type": "markdown",
   "metadata": {},
   "source": [
    "## DATA UNDERSTANDING\n",
    "\n",
    "We did Web Scraping from the 3 websites below and merged our datasets\n",
    "\n",
    "1. https://uk.trustpilot.com/review/www.kenya-airways.com\n",
    "2. https://www.airlinequality.com/airline-reviews/kenya-airways/\n",
    "3. https://www.airlineratings.com/airlines/kenya-airways\n",
    "\n",
    "\n",
    "The dataset has 3065 rows and 5 columns with the following description ;\n",
    "\n",
    "* Departures: This column indicates the departure region or type of flight, such as \"Africa\" or \"International.\"\n",
    "* Class: This column specifies the class of travel, such as \"Economy\" or \"Business Class.\"\n",
    "* Review: This column contains customer reviews of their experiences with Kenya Airways. The text data may include opinions, complaints, and compliments about the airline.\n",
    "* Rating: This column contains the numeric rating provided by the customer, typically ranging from 1.0 to 5.0, where 1.0 represents \"Poor\" and 5.0 represents \"Excellent.\"\n",
    "* Rating_description: This column provides a textual description corresponding to the numeric rating, such as \"Poor,\" \"Good,\" or \"Excellent.\"\n"
   ]
  }
 ],
 "metadata": {
  "language_info": {
   "name": "python"
  }
 },
 "nbformat": 4,
 "nbformat_minor": 2
}
